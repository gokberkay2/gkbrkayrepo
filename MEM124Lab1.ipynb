{
 "cells": [
  {
   "cell_type": "code",
   "execution_count": 2,
   "metadata": {},
   "outputs": [
    {
     "name": "stdout",
     "output_type": "stream",
     "text": [
      "[2, 4, 6]\n",
      "[6, 12, 18]\n"
     ]
    }
   ],
   "source": [
    "vec =[2,4,6] #create a vector called vec\n",
    "result = [3*x for x in vec] #result vector\n",
    "print(vec) #print vec on screen\n",
    "print(result) #print result on screen\n"
   ]
  },
  {
   "cell_type": "code",
   "execution_count": 4,
   "metadata": {},
   "outputs": [
    {
     "name": "stdout",
     "output_type": "stream",
     "text": [
      "GokberkAY\n",
      "24\n",
      "mechatronics\n"
     ]
    }
   ],
   "source": [
    "#Example of object oriented-based\n",
    "class Student(object): #definition of class\n",
    "    def __init__(self,first_name, last_name): #definition the name information\n",
    "        self.first_name=first_name #first name attribute\n",
    "        self.last_name=last_name #last name attribute\n",
    "        self.full_name=first_name+''+last_name #full name attribute\n",
    "    def set_age(self,age): #definition of age information\n",
    "        self.age = age #age attribute\n",
    "    def set_major(self,major): #definition of major department information\n",
    "        self.major=major #major department attribute\n",
    "\n",
    "if __name__ == '__main__': #call notation of personal information\n",
    "    Gokberk= Student('Gokberk','AY') #set name information\n",
    "    Gokberk.set_age(24) #set age information\n",
    "    Gokberk.set_major('mechatronics') #set major department information\n",
    "print(Gokberk.full_name) #print full name on screen\n",
    "print(Gokberk.age)#print age on screen\n",
    "print(Gokberk.major)#print major department on screen"
   ]
  },
  {
   "cell_type": "code",
   "execution_count": null,
   "metadata": {},
   "outputs": [],
   "source": [
    "person=input('enter your name:')\n",
    "print('hello',person,'!')"
   ]
  },
  {
   "cell_type": "code",
   "execution_count": null,
   "metadata": {},
   "outputs": [],
   "source": []
  }
 ],
 "metadata": {
  "kernelspec": {
   "display_name": "Python 3",
   "language": "python",
   "name": "python3"
  },
  "language_info": {
   "codemirror_mode": {
    "name": "ipython",
    "version": 3
   },
   "file_extension": ".py",
   "mimetype": "text/x-python",
   "name": "python",
   "nbconvert_exporter": "python",
   "pygments_lexer": "ipython3",
   "version": "3.6.5"
  }
 },
 "nbformat": 4,
 "nbformat_minor": 2
}
